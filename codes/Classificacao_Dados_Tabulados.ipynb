{
  "cells": [
    {
      "cell_type": "markdown",
      "metadata": {
        "id": "ohLa_Bxc3SRR"
      },
      "source": [
        "# **Bibliotecas e Funções**"
      ]
    },
    {
      "cell_type": "markdown",
      "metadata": {
        "id": "JhTjzKKv-tfU"
      },
      "source": [
        "## ***Bibliotecas***"
      ]
    },
    {
      "cell_type": "code",
      "execution_count": null,
      "metadata": {
        "id": "QQoSlJ0MbLXr"
      },
      "outputs": [],
      "source": [
        "import pandas as pd\n",
        "import numpy as np\n",
        "import seaborn as sns\n",
        "import matplotlib as mpl\n",
        "import matplotlib.pyplot as plt\n",
        "\n",
        "# Scikit-Learn\n",
        "from sklearn.preprocessing import MinMaxScaler, StandardScaler\n",
        "from sklearn.model_selection import train_test_split\n",
        "from sklearn.metrics import confusion_matrix\n",
        "from sklearn import neighbors, svm, ensemble\n",
        "from sklearn.neural_network import MLPClassifier\n",
        "\n",
        "# OpenCV\n",
        "import cv2\n",
        "\n",
        "# Tensorflow\n",
        "import tensorflow as tf\n",
        "from tensorflow import keras\n",
        "from tensorflow.keras.models import Sequential\n",
        "from tensorflow.keras import layers\n",
        "from tensorflow.keras.preprocessing.image import ImageDataGenerator"
      ]
    },
    {
      "cell_type": "markdown",
      "metadata": {
        "id": "e3VHWdLc3ah7"
      },
      "source": [
        "## ***Acessos Externos***"
      ]
    },
    {
      "cell_type": "code",
      "execution_count": null,
      "metadata": {
        "id": "MQbYQc4kXXbd"
      },
      "outputs": [],
      "source": [
        "from google.colab import drive\n",
        "drive.mount('/content/drive')"
      ]
    },
    {
      "cell_type": "markdown",
      "metadata": {
        "id": "uFE-RdapAWmW"
      },
      "source": [
        "# **Overview do Dataset**"
      ]
    },
    {
      "cell_type": "code",
      "execution_count": null,
      "metadata": {
        "id": "NiFidQBgwAR7"
      },
      "outputs": [],
      "source": [
        "df = pd.read_csv(\"/content/drive/MyDrive/Artigos - Nathan/2024 - ICITED/Dados_Tabulados.csv\", skiprows=[1,2])\n",
        "\n",
        "# Imprime algumas informações básicas sobre os dados\n",
        "print(\"Numero de linhas: {}\".format(df.shape[0]))\n",
        "print(\"Numero de colunas: {}\".format(df.shape[1]))\n",
        "print(\"Dados faltando: {}\".format(df.isnull().sum().sum()))\n",
        "\n",
        "print(\"\\nAmostra:\")\n",
        "display(df.sample(10))\n",
        "\n",
        "# Cria uma lista com as features\n",
        "features = list(df.columns)\n",
        "\n",
        "# print(\"Features:\")\n",
        "# print(\"\\n\".join([\"  \" + x for x in features]))\n",
        "print(features)\n",
        "\n",
        "mpl.rc('font', size=14)"
      ]
    },
    {
      "cell_type": "markdown",
      "metadata": {
        "id": "CGovsmRc6mms"
      },
      "source": [
        "## ***Dados Categóricos***"
      ]
    },
    {
      "cell_type": "code",
      "execution_count": null,
      "metadata": {
        "id": "nu-N12ij5Q63"
      },
      "outputs": [],
      "source": [
        "# Colunas Não Numéricas\n",
        "categ_cols = df.select_dtypes(exclude='number').columns\n",
        "\n",
        "for c in categ_cols:\n",
        "    display((df[c].value_counts().sort_index()/len(df)*100).round(2).to_frame(c +\" (%)\").T)"
      ]
    },
    {
      "cell_type": "code",
      "execution_count": null,
      "metadata": {
        "id": "eIaizxx56qi4"
      },
      "outputs": [],
      "source": [
        "df = df.drop(['image name', 'image'], axis='columns')\n",
        "\n",
        "Target = 'category'\n",
        "display(df.head(10))"
      ]
    },
    {
      "cell_type": "markdown",
      "metadata": {
        "id": "RISfz5Qd-S6k"
      },
      "source": [
        "## ***Dados Numéricos***"
      ]
    },
    {
      "cell_type": "code",
      "execution_count": null,
      "metadata": {
        "id": "4lL49BnN9GBc"
      },
      "outputs": [],
      "source": [
        "features = df.select_dtypes(include=np.number).columns\n",
        "features"
      ]
    },
    {
      "cell_type": "markdown",
      "metadata": {
        "id": "JgdTg3jN-ZwR"
      },
      "source": [
        "# **Preparação dos Dados**"
      ]
    },
    {
      "cell_type": "markdown",
      "metadata": {
        "id": "85CsO6fiFX1h"
      },
      "source": [
        "## ***Normalização das Features***"
      ]
    },
    {
      "cell_type": "code",
      "execution_count": null,
      "metadata": {
        "id": "BvBHNSor9VAn"
      },
      "outputs": [],
      "source": [
        "# Normalização dos Dados\n",
        "min_max_scaler = MinMaxScaler(feature_range=(0, 1))\n",
        "\n",
        "df[features] = min_max_scaler.fit_transform(df[features])\n",
        "df[features].describe()"
      ]
    },
    {
      "cell_type": "markdown",
      "metadata": {
        "id": "9M9aiSmTFbT8"
      },
      "source": [
        "## ***Target Numérico***"
      ]
    },
    {
      "cell_type": "code",
      "execution_count": null,
      "metadata": {
        "id": "uwK0J679-NvN"
      },
      "outputs": [],
      "source": [
        "df[Target] = (df[Target] == \"selective-logging\").astype(int)\n",
        "display((df[Target].value_counts()/len(df)*100).round(2).to_frame(Target +\" (%)\").T)"
      ]
    },
    {
      "cell_type": "markdown",
      "metadata": {
        "id": "6SbuMthrFqJs"
      },
      "source": [
        "## ***Split dos Dados***"
      ]
    },
    {
      "cell_type": "code",
      "execution_count": null,
      "metadata": {
        "id": "usGef-rTHuV6"
      },
      "outputs": [],
      "source": [
        "x_train, x_rem, y_train, y_rem = train_test_split(df[features], df[Target], train_size=0.8)\n",
        "\n",
        "x_valid, x_test, y_valid, y_test = train_test_split(x_rem,y_rem, test_size=0.5)\n",
        "\n",
        "print(\"Features:\")\n",
        "print(\"Treinamento:\", x_train.shape, \"\\tValidação:\", x_valid.shape, \"\\tTeste:\", x_test.shape)\n",
        "# print(\"Treinamento:\", x_train.shape, \"\\tValidação:\", x_valid.shape)\n",
        "\n",
        "print(\"\\nTarget:\")\n",
        "print(\"Treinamento:\", y_train.shape, \"\\t\\tValidação:\", y_valid.shape, \"\\tTeste:\", y_test.shape)\n",
        "# print(\"Treinamento:\", y_train.shape, \"\\t\\tValidação:\", y_valid.shape)"
      ]
    },
    {
      "cell_type": "markdown",
      "metadata": {
        "id": "OlKtHRpKHFLW"
      },
      "source": [
        "# **Aplicação de Redes Neurais**"
      ]
    },
    {
      "cell_type": "code",
      "execution_count": null,
      "metadata": {
        "id": "O5QeIWtDaoVd"
      },
      "outputs": [],
      "source": [
        "x = range(len(features))"
      ]
    },
    {
      "cell_type": "markdown",
      "metadata": {
        "id": "ABB3DzxuA7eB"
      },
      "source": [
        "## ***KNN (K Nearest Neighbours)***"
      ]
    },
    {
      "cell_type": "code",
      "execution_count": null,
      "metadata": {
        "id": "90f44f14"
      },
      "outputs": [],
      "source": [
        "# Define uma funcao que recebe o numero k de vizinhos,\n",
        "def test_knn_ball(k):\n",
        "  clf = neighbors.KNeighborsClassifier(n_neighbors=k,\n",
        "                                       algorithm='ball_tree')\n",
        "\n",
        "  clf = clf.fit(x_train, y_train)\n",
        "\n",
        "  train_acc = clf.score(x_train, y_train)\n",
        "  val_acc = clf.score(x_valid, y_valid)\n",
        "\n",
        "  print(\"Número de Regiões: {}\".format(k))\n",
        "  print(\"Acurácia de treino: {:.3}\".format(train_acc))\n",
        "  print(\"Acurácia de validação: {:.3}\".format(val_acc))\n",
        "\n",
        "def test_knn_tree(k):\n",
        "  clf = neighbors.KNeighborsClassifier(n_neighbors=k,\n",
        "                                       algorithm='kd_tree')\n",
        "\n",
        "  clf = clf.fit(x_train, y_train)\n",
        "\n",
        "  train_acc = clf.score(x_train, y_train)\n",
        "  val_acc = clf.score(x_valid, y_valid)\n",
        "\n",
        "  print(\"Número de Regiões: {}\".format(k))\n",
        "  print(\"Acurácia de treino: {:.3}\".format(train_acc))\n",
        "  print(\"Acurácia de validação: {:.3}\".format(val_acc))\n",
        "\n",
        "def test_knn_brute(k):\n",
        "  clf = neighbors.KNeighborsClassifier(n_neighbors=k,\n",
        "                                       algorithm='brute')\n",
        "\n",
        "  clf = clf.fit(x_train, y_train)\n",
        "\n",
        "  train_acc = clf.score(x_train, y_train)\n",
        "  val_acc = clf.score(x_valid, y_valid)\n",
        "\n",
        "  print(\"Número de Regiões: {}\".format(k))\n",
        "  print(\"Acurácia de treino: {:.3}\".format(train_acc))\n",
        "  print(\"Acurácia de validação: {:.3}\".format(val_acc))"
      ]
    },
    {
      "cell_type": "code",
      "execution_count": null,
      "metadata": {
        "id": "d6164aeb"
      },
      "outputs": [],
      "source": [
        "print(\"Ball:\")\n",
        "test_knn_ball(3)\n",
        "\n",
        "print(\"\\nTree:\")\n",
        "test_knn_tree(3)\n",
        "\n",
        "print(\"\\nBrute:\")\n",
        "test_knn_brute(3)"
      ]
    },
    {
      "cell_type": "code",
      "execution_count": null,
      "metadata": {
        "id": "2f6b7ba5"
      },
      "outputs": [],
      "source": [
        "print(\"Ball:\")\n",
        "test_knn_ball(5)\n",
        "\n",
        "print(\"\\nTree:\")\n",
        "test_knn_tree(5)\n",
        "\n",
        "print(\"\\nBrute:\")\n",
        "test_knn_brute(5)"
      ]
    },
    {
      "cell_type": "code",
      "execution_count": null,
      "metadata": {
        "id": "v4bO_vZwvQ8w"
      },
      "outputs": [],
      "source": [
        "print(\"Ball:\")\n",
        "test_knn_ball(15)\n",
        "\n",
        "print(\"\\nTree:\")\n",
        "test_knn_tree(15)\n",
        "\n",
        "print(\"\\nBrute:\")\n",
        "test_knn_brute(15)"
      ]
    },
    {
      "cell_type": "code",
      "execution_count": null,
      "metadata": {
        "id": "7uh1I9dxvQ8y"
      },
      "outputs": [],
      "source": [
        "print(\"Ball:\")\n",
        "test_knn_ball(49)\n",
        "\n",
        "print(\"\\nTree:\")\n",
        "test_knn_tree(49)\n",
        "\n",
        "print(\"\\nBrute:\")\n",
        "test_knn_brute(49)"
      ]
    },
    {
      "cell_type": "code",
      "execution_count": null,
      "metadata": {
        "id": "zI-CxsoRQJ-1"
      },
      "outputs": [],
      "source": [
        "print(\"Ball:\")\n",
        "test_knn_ball(99)\n",
        "\n",
        "print(\"\\nTree:\")\n",
        "test_knn_tree(99)\n",
        "\n",
        "print(\"\\nBrute:\")\n",
        "test_knn_brute(99)"
      ]
    },
    {
      "cell_type": "markdown",
      "metadata": {
        "id": "4yMaiNXWBBVa"
      },
      "source": [
        "## ***AdaBoost***"
      ]
    },
    {
      "cell_type": "code",
      "execution_count": null,
      "metadata": {
        "id": "508b89df"
      },
      "outputs": [],
      "source": [
        "def test_adaboost(N):\n",
        "  clf = ensemble.AdaBoostClassifier(n_estimators=N)\n",
        "\n",
        "  clf = clf.fit(x_train, y_train)\n",
        "\n",
        "  train_acc = clf.score(x_train, y_train)\n",
        "  val_acc = clf.score(x_valid, y_valid)\n",
        "\n",
        "  print(\"Número de Estimadores: {}\".format(N))\n",
        "  print(\"Máximas Relevâncias: {:.5}, {:.5}, {:.5}, {:.5}, {:.5}\".format(sorted(clf.feature_importances_)[-1],\n",
        "                                                                        sorted(clf.feature_importances_)[-2],\n",
        "                                                                        sorted(clf.feature_importances_)[-3],\n",
        "                                                                        sorted(clf.feature_importances_)[-4],\n",
        "                                                                        sorted(clf.feature_importances_)[-5]))\n",
        "  print(\"Acurácia de treino: {:.3}\".format(train_acc))\n",
        "  print(\"Acurácia de validação: {:.3}\".format(val_acc))"
      ]
    },
    {
      "cell_type": "code",
      "execution_count": null,
      "metadata": {
        "id": "n4nG5BQ0vVYt"
      },
      "outputs": [],
      "source": [
        "test_adaboost(3)"
      ]
    },
    {
      "cell_type": "code",
      "execution_count": null,
      "metadata": {
        "id": "vDXGrGYAvVYv"
      },
      "outputs": [],
      "source": [
        "test_adaboost(5)"
      ]
    },
    {
      "cell_type": "code",
      "execution_count": null,
      "metadata": {
        "id": "2V_EiFKqvVYw"
      },
      "outputs": [],
      "source": [
        "test_adaboost(15)"
      ]
    },
    {
      "cell_type": "code",
      "execution_count": null,
      "metadata": {
        "id": "S_8eV0bdvVYx"
      },
      "outputs": [],
      "source": [
        "test_adaboost(49)"
      ]
    },
    {
      "cell_type": "code",
      "execution_count": null,
      "metadata": {
        "id": "ItOrQumNvVYy"
      },
      "outputs": [],
      "source": [
        "test_adaboost(99)"
      ]
    },
    {
      "cell_type": "markdown",
      "metadata": {
        "id": "kcGwJYAVBF6S"
      },
      "source": [
        "## ***Random Forest***"
      ]
    },
    {
      "cell_type": "code",
      "execution_count": null,
      "metadata": {
        "id": "aa4daa77"
      },
      "outputs": [],
      "source": [
        "def test_rf(N, max_depth):\n",
        "  clf = ensemble.RandomForestClassifier(n_estimators=N,\n",
        "                                        max_depth=max_depth)\n",
        "\n",
        "  clf = clf.fit(x_train, y_train)\n",
        "\n",
        "  train_acc = clf.score(x_train, y_train)\n",
        "  val_acc = clf.score(x_valid, y_valid)\n",
        "\n",
        "  print(\"Número de Estimadores: {}\".format(N))\n",
        "  print(\"Profundidade: {}\".format(max_depth))\n",
        "  print(\"Máximas Relevâncias: {:.3}, {:.3}, {:.3}, {:.3}, {:.3}\".format(sorted(clf.feature_importances_)[-1],\n",
        "                                                                        sorted(clf.feature_importances_)[-2],\n",
        "                                                                        sorted(clf.feature_importances_)[-3],\n",
        "                                                                        sorted(clf.feature_importances_)[-4],\n",
        "                                                                        sorted(clf.feature_importances_)[-5]))\n",
        "  print(\"Acurácia de treino: {:.3}\".format(train_acc))\n",
        "  print(\"Acurácia de validação: {:.3}\".format(val_acc))"
      ]
    },
    {
      "cell_type": "code",
      "execution_count": null,
      "metadata": {
        "id": "IQBjV_L_8DzP"
      },
      "outputs": [],
      "source": [
        "print(\"Depth None:\")\n",
        "test_rf(3, None)\n",
        "\n",
        "print(\"\\nDepth 5:\")\n",
        "test_rf(3, 5)\n",
        "\n",
        "print(\"\\nDepth 10:\")\n",
        "test_rf(3, 10)"
      ]
    },
    {
      "cell_type": "code",
      "execution_count": null,
      "metadata": {
        "id": "K82erHvc2p9A"
      },
      "outputs": [],
      "source": [
        "print(\"Depth None:\")\n",
        "test_rf(5, None)\n",
        "\n",
        "print(\"\\nDepth 5:\")\n",
        "test_rf(5, 5)\n",
        "\n",
        "print(\"\\nDepth 10:\")\n",
        "test_rf(5, 10)"
      ]
    },
    {
      "cell_type": "code",
      "execution_count": null,
      "metadata": {
        "id": "Q-2BO_Jz2p9F"
      },
      "outputs": [],
      "source": [
        "print(\"Depth None:\")\n",
        "test_rf(15, None)\n",
        "\n",
        "print(\"\\nDepth 5:\")\n",
        "test_rf(15, 5)\n",
        "\n",
        "print(\"\\nDepth 10:\")\n",
        "test_rf(15, 10)"
      ]
    },
    {
      "cell_type": "code",
      "execution_count": null,
      "metadata": {
        "id": "VYLNSOWy2p9N"
      },
      "outputs": [],
      "source": [
        "print(\"Depth None:\")\n",
        "test_rf(49, None)\n",
        "\n",
        "print(\"\\nDepth 5:\")\n",
        "test_rf(49, 5)\n",
        "\n",
        "print(\"\\nDepth 10:\")\n",
        "test_rf(49, 10)"
      ]
    },
    {
      "cell_type": "code",
      "execution_count": null,
      "metadata": {
        "id": "p6dZSr4V8CG3"
      },
      "outputs": [],
      "source": [
        "print(\"Depth None:\")\n",
        "test_rf(99, None)\n",
        "\n",
        "print(\"\\nDepth 5:\")\n",
        "test_rf(99, 5)\n",
        "\n",
        "print(\"\\nDepth 10:\")\n",
        "test_rf(99, 10)"
      ]
    },
    {
      "cell_type": "markdown",
      "metadata": {
        "id": "iE18OsuBA-Si"
      },
      "source": [
        "## ***SVM (Support Vector Machines)***"
      ]
    },
    {
      "cell_type": "code",
      "execution_count": null,
      "metadata": {
        "id": "O7_t_CjIgD-5"
      },
      "outputs": [],
      "source": [
        "def test_svm_linear(C):\n",
        "  clf = svm.SVC(C=C,\n",
        "                kernel='linear',\n",
        "                gamma='auto')\n",
        "\n",
        "  clf = clf.fit(x_train, y_train)\n",
        "\n",
        "  train_acc = clf.score(x_train, y_train)\n",
        "  val_acc = clf.score(x_valid, y_valid)\n",
        "\n",
        "  print(\"Parâmetro Regulador: {}\".format(C))\n",
        "  print(\"Acuracia de treino: {:.3}\".format(train_acc))\n",
        "  print(\"Acuracia de validação: {:.3}\".format(val_acc))\n",
        "\n",
        "def test_svm_poly(C):\n",
        "  clf = svm.SVC(C=C,\n",
        "                kernel='poly',\n",
        "                gamma='auto')\n",
        "\n",
        "  clf = clf.fit(x_train, y_train)\n",
        "\n",
        "  train_acc = clf.score(x_train, y_train)\n",
        "  val_acc = clf.score(x_valid, y_valid)\n",
        "\n",
        "  print(\"Parâmetro Regulador: {}\".format(C))\n",
        "  print(\"Acuracia de treino: {:.3}\".format(train_acc))\n",
        "  print(\"Acuracia de validação: {:.3}\".format(val_acc))\n",
        "\n",
        "def test_svm_rbf(C):\n",
        "  clf = svm.SVC(C=C,\n",
        "                kernel='rbf',\n",
        "                gamma='auto')\n",
        "\n",
        "  clf = clf.fit(x_train, y_train)\n",
        "\n",
        "  train_acc = clf.score(x_train, y_train)\n",
        "  val_acc = clf.score(x_valid, y_valid)\n",
        "\n",
        "  print(\"Parâmetro Regulador: {}\".format(C))\n",
        "  print(\"Acuracia de treino: {:.3}\".format(train_acc))\n",
        "  print(\"Acuracia de validação: {:.3}\".format(val_acc))\n",
        "\n",
        "def test_svm_sig(C):\n",
        "  clf = svm.SVC(C=C,\n",
        "                kernel='sigmoid',\n",
        "                gamma='auto')\n",
        "\n",
        "  clf = clf.fit(x_train, y_train)\n",
        "\n",
        "  train_acc = clf.score(x_train, y_train)\n",
        "  val_acc = clf.score(x_valid, y_valid)\n",
        "\n",
        "  print(\"Parâmetro Regulador: {}\".format(C))\n",
        "  print(\"Acuracia de treino: {:.3}\".format(train_acc))\n",
        "  print(\"Acuracia de validação: {:.3}\".format(val_acc))"
      ]
    },
    {
      "cell_type": "code",
      "execution_count": null,
      "metadata": {
        "id": "zWFa-Zo66eMQ"
      },
      "outputs": [],
      "source": [
        "print(\"Linear:\")\n",
        "test_svm_linear(.1)\n",
        "\n",
        "print(\"\\nPolynomial:\")\n",
        "test_svm_poly(.1)\n",
        "\n",
        "print(\"\\nRBF:\")\n",
        "test_svm_rbf(.1)\n",
        "\n",
        "print(\"\\nSigmoid:\")\n",
        "test_svm_sig(.1)"
      ]
    },
    {
      "cell_type": "code",
      "execution_count": null,
      "metadata": {
        "id": "2892IBvSNOpp"
      },
      "outputs": [],
      "source": [
        "print(\"Linear:\")\n",
        "test_svm_linear(1)\n",
        "\n",
        "print(\"\\nPolynomial:\")\n",
        "test_svm_poly(1)\n",
        "\n",
        "print(\"\\nRBF:\")\n",
        "test_svm_rbf(1)\n",
        "\n",
        "print(\"\\nSigmoid:\")\n",
        "test_svm_sig(1)"
      ]
    },
    {
      "cell_type": "code",
      "execution_count": null,
      "metadata": {
        "id": "IrmGIYPZgH4d"
      },
      "outputs": [],
      "source": [
        "print(\"Linear:\")\n",
        "test_svm_linear(5)\n",
        "\n",
        "print(\"\\nPolynomial:\")\n",
        "test_svm_poly(5)\n",
        "\n",
        "print(\"\\nRBF:\")\n",
        "test_svm_rbf(5)\n",
        "\n",
        "print(\"\\nSigmoid:\")\n",
        "test_svm_sig(5)"
      ]
    },
    {
      "cell_type": "code",
      "execution_count": null,
      "metadata": {
        "id": "yV9bHEMTNOku"
      },
      "outputs": [],
      "source": [
        "print(\"Linear:\")\n",
        "test_svm_linear(10)\n",
        "\n",
        "print(\"\\nPolynomial:\")\n",
        "test_svm_poly(10)\n",
        "\n",
        "print(\"\\nRBF:\")\n",
        "test_svm_rbf(10)\n",
        "\n",
        "print(\"\\nSigmoid:\")\n",
        "test_svm_sig(10)"
      ]
    },
    {
      "cell_type": "markdown",
      "metadata": {
        "id": "Y1rDXbSRbyVj"
      },
      "source": [
        "## ***MLP (Multilayer Perceptron)***"
      ]
    },
    {
      "cell_type": "code",
      "execution_count": null,
      "metadata": {
        "id": "ZNk5vaPJbsdD"
      },
      "outputs": [],
      "source": [
        "def mlp_line(hidden):\n",
        "    clf = MLPClassifier(hidden_layer_sizes=(hidden),\n",
        "                        activation='identity',\n",
        "                        solver='adam',\n",
        "                        learning_rate='adaptive',\n",
        "                        max_iter=500,\n",
        "                        verbose=False)\n",
        "\n",
        "    clf = clf.fit(x_train, y_train)\n",
        "\n",
        "    train_acc = clf.score(x_train, y_train)\n",
        "    val_acc = clf.score(x_valid, y_valid)\n",
        "\n",
        "    print(\"Camadas escondidas: {}\".format(hidden))\n",
        "    print(\"Número de Iterações: {}\".format(clf.n_iter_))\n",
        "    print(\"Loss Mínimo: {:.5}\".format(clf.best_loss_))\n",
        "    print(\"Acurácia de treino: {:.3}\".format(train_acc))\n",
        "    print(\"Acurácia de validação: {:.3}\".format(val_acc))\n",
        "\n",
        "def mlp_relu(hidden):\n",
        "    clf = MLPClassifier(hidden_layer_sizes=(hidden),\n",
        "                        activation='relu',\n",
        "                        solver='adam',\n",
        "                        learning_rate='adaptive',\n",
        "                        max_iter=500,\n",
        "                        verbose=False)\n",
        "\n",
        "    clf = clf.fit(x_train, y_train)\n",
        "\n",
        "    train_acc = clf.score(x_train, y_train)\n",
        "    val_acc = clf.score(x_valid, y_valid)\n",
        "\n",
        "    print(\"Camadas escondidas: {}\".format(hidden))\n",
        "    print(\"Número de Iterações: {}\".format(clf.n_iter_))\n",
        "    print(\"Loss Mínimo: {:.5}\".format(clf.best_loss_))\n",
        "    print(\"Acurácia de treino: {:.3}\".format(train_acc))\n",
        "    print(\"Acurácia de validação: {:.3}\".format(val_acc))\n",
        "\n",
        "def mlp_sigmoid(hidden):\n",
        "    clf = MLPClassifier(hidden_layer_sizes=(hidden),\n",
        "                        activation='logistic',\n",
        "                        solver='adam',\n",
        "                        learning_rate='adaptive',\n",
        "                        max_iter=500,\n",
        "                        verbose=False)\n",
        "\n",
        "    clf = clf.fit(x_train, y_train)\n",
        "\n",
        "    train_acc = clf.score(x_train, y_train)\n",
        "    val_acc = clf.score(x_valid, y_valid)\n",
        "\n",
        "    print(\"Camadas escondidas: {}\".format(hidden))\n",
        "    print(\"Número de Iterações: {}\".format(clf.n_iter_))\n",
        "    print(\"Loss Mínimo: {:.5}\".format(clf.best_loss_))\n",
        "    print(\"Acurácia de treino: {:.3}\".format(train_acc))\n",
        "    print(\"Acurácia de validação: {:.3}\".format(val_acc))\n",
        "\n",
        "def mlp_tanh(hidden):\n",
        "    clf = MLPClassifier(hidden_layer_sizes=(hidden),\n",
        "                        activation='tanh',\n",
        "                        solver='adam',\n",
        "                        learning_rate='adaptive',\n",
        "                        max_iter=500,\n",
        "                        verbose=False)\n",
        "\n",
        "    clf = clf.fit(x_train, y_train)\n",
        "\n",
        "    train_acc = clf.score(x_train, y_train)\n",
        "    val_acc = clf.score(x_valid, y_valid)\n",
        "\n",
        "    print(\"Camadas escondidas: {}\".format(hidden))\n",
        "    print(\"Número de Iterações: {}\".format(clf.n_iter_))\n",
        "    print(\"Loss Mínimo: {:.5}\".format(clf.best_loss_))\n",
        "    print(\"Acurácia de treino: {:.3}\".format(train_acc))\n",
        "    print(\"Acurácia de validação: {:.3}\".format(val_acc))"
      ]
    },
    {
      "cell_type": "code",
      "execution_count": null,
      "metadata": {
        "id": "I-KIN4hLkus_"
      },
      "outputs": [],
      "source": [
        "print(\"Identidade\")\n",
        "mlp_line((20))\n",
        "\n",
        "print(\"\\nRelu\")\n",
        "mlp_relu((20))\n",
        "\n",
        "print(\"\\nSigmoide\")\n",
        "mlp_sigmoid((20))\n",
        "\n",
        "print(\"\\nTanh\")\n",
        "mlp_tanh((20))"
      ]
    },
    {
      "cell_type": "code",
      "execution_count": null,
      "metadata": {
        "id": "HzQjhTf3k1AP"
      },
      "outputs": [],
      "source": [
        "print(\"Identidade\")\n",
        "mlp_line((20, 20))\n",
        "\n",
        "print(\"\\nRelu\")\n",
        "mlp_relu((20, 20))\n",
        "\n",
        "print(\"\\nSigmoide\")\n",
        "mlp_sigmoid((20, 20))\n",
        "\n",
        "print(\"\\nTanh\")\n",
        "mlp_tanh((20, 20))"
      ]
    },
    {
      "cell_type": "code",
      "execution_count": null,
      "metadata": {
        "id": "q2s5E0nUGatD"
      },
      "outputs": [],
      "source": [
        "print(\"Identidade\")\n",
        "mlp_line((20, 10, 20))\n",
        "\n",
        "print(\"\\nRelu\")\n",
        "mlp_relu((20, 10, 20))\n",
        "\n",
        "print(\"\\nSigmoide\")\n",
        "mlp_sigmoid((20, 10, 20))\n",
        "\n",
        "print(\"\\nTanh\")\n",
        "mlp_tanh((20, 10, 20))"
      ]
    },
    {
      "cell_type": "code",
      "execution_count": null,
      "metadata": {
        "id": "RHslPRgxRPOI"
      },
      "outputs": [],
      "source": [
        "print(\"Identidade\")\n",
        "mlp_line((20, 10, 10, 20))\n",
        "\n",
        "print(\"\\nRelu\")\n",
        "mlp_relu((20, 10, 10, 20))\n",
        "\n",
        "print(\"\\nSigmoide\")\n",
        "mlp_sigmoid((20, 10, 10, 20))\n",
        "\n",
        "print(\"\\nTanh\")\n",
        "mlp_tanh((20, 10, 10, 20))"
      ]
    },
    {
      "cell_type": "markdown",
      "metadata": {
        "id": "NzSek-2C6ZFC"
      },
      "source": [
        "# **Matriz de Confusão**"
      ]
    },
    {
      "cell_type": "code",
      "execution_count": null,
      "metadata": {
        "id": "-EYBmNUjmEY0"
      },
      "outputs": [],
      "source": [
        "classes = (['non-logging', 'selective-loggin'])"
      ]
    },
    {
      "cell_type": "code",
      "execution_count": null,
      "metadata": {
        "cellView": "form",
        "id": "j8yfmfOiFE52"
      },
      "outputs": [],
      "source": [
        "#@title ***KNN***\n",
        "knn_neighbor = 49\n",
        "\n",
        "# KNN\n",
        "knn_clf = neighbors.KNeighborsClassifier(n_neighbors=knn_neighbor)\n",
        "knn_clf = knn_clf.fit(x_train, y_train)\n",
        "val_knn = knn_clf.predict(x_test)\n",
        "\n",
        "cm = confusion_matrix(y_test, val_knn)\n",
        "fig = plt.figure(figsize = (8,8))\n",
        "ax = fig.add_subplot(1,1,1)\n",
        "sns.set(font_scale=2.3) #for label size\n",
        "sns.heatmap(cm/cm.sum(axis=0), annot=True, annot_kws={\"size\": 30}, fmt='.2%',\n",
        "            cbar = False, cmap='Purples', xticklabels=classes, yticklabels=classes);\n",
        "ax.set_ylabel('True Values',fontsize=30)\n",
        "ax.set_xlabel('Predicted Values',fontsize=30)\n",
        "plt.show()"
      ]
    },
    {
      "cell_type": "code",
      "execution_count": null,
      "metadata": {
        "cellView": "form",
        "id": "0BfkFOUsk6Tx"
      },
      "outputs": [],
      "source": [
        "#@title ***AdaBoost***\n",
        "ab_estimator = 15\n",
        "\n",
        "# AdaBoost\n",
        "ab_clf = ensemble.AdaBoostClassifier(n_estimators=ab_estimator)\n",
        "ab_clf = ab_clf.fit(x_train, y_train)\n",
        "val_ab = ab_clf.predict(x_test)\n",
        "\n",
        "cm = confusion_matrix(y_test, val_ab)\n",
        "fig = plt.figure(figsize = (8,8))\n",
        "ax = fig.add_subplot(1,1,1)\n",
        "sns.set(font_scale=2.3) #for label size\n",
        "sns.heatmap(cm/cm.sum(axis=0), annot=True, annot_kws={\"size\": 30}, fmt='.2%',\n",
        "            cbar = False, cmap='Purples', xticklabels=classes, yticklabels=classes);\n",
        "ax.set_ylabel('True Values',fontsize=30)\n",
        "ax.set_xlabel('Predicted Values',fontsize=30)\n",
        "plt.show()"
      ]
    },
    {
      "cell_type": "code",
      "execution_count": null,
      "metadata": {
        "cellView": "form",
        "id": "AWZA5nTJk6hU"
      },
      "outputs": [],
      "source": [
        "#@title ***Random Forest***\n",
        "rf_tree = 5\n",
        "rf_depth = 10\n",
        "\n",
        "# Random Forest\n",
        "rf_clf = ensemble.RandomForestClassifier(n_estimators=rf_tree, max_depth=rf_depth)\n",
        "rf_clf = rf_clf.fit(x_train, y_train)\n",
        "val_rf = rf_clf.predict(x_test)\n",
        "\n",
        "cm = confusion_matrix(y_test, val_rf)\n",
        "fig = plt.figure(figsize = (8,8))\n",
        "ax = fig.add_subplot(1,1,1)\n",
        "sns.set(font_scale=2.3) #for label size\n",
        "sns.heatmap(cm/cm.sum(axis=0), annot=True, annot_kws={\"size\": 30}, fmt='.2%',\n",
        "            cbar = False, cmap='Purples', xticklabels=classes, yticklabels=classes);\n",
        "ax.set_ylabel('True Values',fontsize=30)\n",
        "ax.set_xlabel('Predicted Values',fontsize=30)\n",
        "plt.show()"
      ]
    },
    {
      "cell_type": "code",
      "execution_count": null,
      "metadata": {
        "cellView": "form",
        "id": "3i-zFtyjk6oZ"
      },
      "outputs": [],
      "source": [
        "#@title ***SVM***\n",
        "svm_sup = 1\n",
        "svm_kernel = 'rbf'\n",
        "\n",
        "# SVM\n",
        "svm_clf = svm.SVC(C=svm_sup, kernel=svm_kernel, gamma='auto')\n",
        "svm_clf = svm_clf.fit(x_train, y_train)\n",
        "val_svm = svm_clf.predict(x_test)\n",
        "\n",
        "cm = confusion_matrix(y_test, val_svm)\n",
        "fig = plt.figure(figsize = (8,8))\n",
        "ax = fig.add_subplot(1,1,1)\n",
        "sns.set(font_scale=2.3) #for label size\n",
        "sns.heatmap(cm/cm.sum(axis=0), annot=True, annot_kws={\"size\": 30}, fmt='.2%',\n",
        "            cbar = False, cmap='Purples', xticklabels=classes, yticklabels=classes);\n",
        "ax.set_ylabel('True Values',fontsize=30)\n",
        "ax.set_xlabel('Predicted Values',fontsize=30)\n",
        "plt.show()"
      ]
    },
    {
      "cell_type": "code",
      "execution_count": null,
      "metadata": {
        "id": "H6v1b51kxCzV",
        "cellView": "form"
      },
      "outputs": [],
      "source": [
        "#@title ***MLP***\n",
        "mlp_arch = (20, 10, 10, 20)\n",
        "mlp_activation = 'tanh'\n",
        "\n",
        "# MLP\n",
        "mlp_clf = MLPClassifier(hidden_layer_sizes=(mlp_arch), activation=mlp_activation, solver='adam', learning_rate='adaptive', max_iter=500, verbose=False)\n",
        "mlp_clf = mlp_clf.fit(x_train, y_train)\n",
        "val_mlp = mlp_clf.predict(x_test)\n",
        "\n",
        "cm = confusion_matrix(y_test, val_mlp)\n",
        "fig = plt.figure(figsize = (8,8))\n",
        "ax = fig.add_subplot(1,1,1)\n",
        "sns.set(font_scale=2.3) #for label size\n",
        "sns.heatmap(cm/cm.sum(axis=0), annot=True, annot_kws={\"size\": 30}, fmt='.2%',\n",
        "            cbar = False, cmap='Purples', xticklabels=classes, yticklabels=classes);\n",
        "ax.set_ylabel('True Values',fontsize=30)\n",
        "ax.set_xlabel('Predicted Values',fontsize=30)\n",
        "plt.show()"
      ]
    }
  ],
  "metadata": {
    "colab": {
      "collapsed_sections": [
        "ohLa_Bxc3SRR",
        "JhTjzKKv-tfU",
        "e3VHWdLc3ah7",
        "uFE-RdapAWmW",
        "CGovsmRc6mms",
        "RISfz5Qd-S6k",
        "yOMe4rilAHyf",
        "JgdTg3jN-ZwR",
        "85CsO6fiFX1h",
        "9M9aiSmTFbT8",
        "6SbuMthrFqJs",
        "OlKtHRpKHFLW",
        "ABB3DzxuA7eB",
        "4yMaiNXWBBVa",
        "kcGwJYAVBF6S",
        "iE18OsuBA-Si",
        "Y1rDXbSRbyVj"
      ],
      "provenance": []
    },
    "kernelspec": {
      "display_name": "Python 3",
      "name": "python3"
    },
    "language_info": {
      "name": "python"
    }
  },
  "nbformat": 4,
  "nbformat_minor": 0
}
